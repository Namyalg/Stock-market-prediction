{
 "cells": [
  {
   "cell_type": "code",
   "execution_count": 1,
   "metadata": {},
   "outputs": [],
   "source": [
    "import pandas as pd\n",
    "import numpy as np\n",
    "import matplotlib as plt\n",
    "import tensorflow as tf"
   ]
  },
  {
   "cell_type": "code",
   "execution_count": 37,
   "metadata": {},
   "outputs": [],
   "source": [
    "path_train=\"C:/Anaconda codes/stock market prediction/csv/Gold Data Last year.csv\"\n",
    "path_test=\"C:/Anaconda codes/stock market prediction/csv/Gold Data Last Month.csv\"\n",
    "\n",
    "\n",
    "current_train=path_train\n",
    "current_test=path_test\n",
    "\n",
    "num_train=266\n",
    "num_test=22\n",
    "lr=0.1\n",
    "epochs=100\n",
    "\n"
   ]
  },
  {
   "cell_type": "code",
   "execution_count": 38,
   "metadata": {},
   "outputs": [],
   "source": [
    "def load_data(stock_name,num_data_points):\n",
    "    data=pd.read_csv(stock_name,\n",
    "                    skiprows=0,\n",
    "                    nrows=num_data_points,\n",
    "                    usecols=['Price','Open','Vol.'])\n",
    "    final_price=data['Price'].astype(str).str.replace(',','').astype(np.float)\n",
    "    open_price=data['Open'].astype(str).str.replace(',','').astype(np.float)\n",
    "    vol=data['Vol.'].str.strip('MK').astype(np.float)\n",
    "    \n",
    "    return final_price,open_price,vol\n",
    "#--------------------------------------------------------------------\n",
    "\n",
    "def cal_diff(final,opens):\n",
    "    diff=[]\n",
    "    \n",
    "    for i in range(len(final)-1):\n",
    "        diff.append(opens[i+1]-final[i])\n",
    "    return(diff)\n",
    "\n",
    "#--------------------------------------------------------------------\n",
    "def calculate_accuracy(expected_values, actual_values):\n",
    "    num_correct = 0\n",
    "    for a_i in range(len(actual_values)):\n",
    "        if actual_values[a_i] < 0 < expected_values[a_i]:\n",
    "            num_correct += 1\n",
    "        elif actual_values[a_i] > 0 > expected_values[a_i]:\n",
    "            num_correct += 1\n",
    "    return (num_correct / len(actual_values)) * 100\n",
    "\n",
    "\n",
    "\n"
   ]
  },
  {
   "cell_type": "code",
   "execution_count": 39,
   "metadata": {},
   "outputs": [],
   "source": [
    "#train data\n",
    "train_final,train_openings,train_vol=(load_data(current_train,num_train))\n",
    "train_difference = cal_diff(train_final,train_openings)\n",
    "train_vol=train_vol[:-1]\n",
    "\n",
    "#test data\n",
    "test_final,test_openings,test_vol=(load_data(current_test,num_test))\n",
    "test_difference = cal_diff(test_final,test_openings)\n",
    "test_vol=test_vol[:-1]"
   ]
  },
  {
   "cell_type": "code",
   "execution_count": null,
   "metadata": {},
   "outputs": [],
   "source": [
    "\n"
   ]
  },
  {
   "cell_type": "code",
   "execution_count": 41,
   "metadata": {},
   "outputs": [
    {
     "name": "stdout",
     "output_type": "stream",
     "text": [
      "Accuracy of model: 61.90%\n",
      "[-0.29348052 -2.6391716  -1.38813651]\n"
     ]
    }
   ],
   "source": [
    "#y = Wx + b\n",
    "\n",
    "x=tf.placeholder(tf.float32, name='x')\n",
    "W=tf.Variable([0.1],name='W')\n",
    "b=tf.Variable([0.1],name='b')\n",
    "y=W*x+b\n",
    "\n",
    "y_predicted=tf.placeholder(tf.float32, name='x')\\\n",
    "\n",
    "loss=tf.reduce_sum(tf.square(y-y_predicted))\n",
    "optimizer=tf.train.AdamOptimizer(lr).minimize(loss)\n",
    "\n",
    "session=tf.Session()\n",
    "session.run(tf.global_variables_initializer())\n",
    "\n",
    "for _ in range(epochs):\n",
    "    session.run(optimizer, feed_dict={x:train_vol, y_predicted:train_difference})\n",
    "    \n",
    "    \n",
    "results = session.run(y, feed_dict={x: test_vol})\n",
    "accuracy = calculate_accuracy(test_difference, results)\n",
    "print(\"Accuracy of model: {0:.2f}%\".format(accuracy))\n",
    "\n",
    "\n",
    "print(session.run(y,{x:[200,500,340]}))"
   ]
  },
  {
   "cell_type": "code",
   "execution_count": null,
   "metadata": {},
   "outputs": [],
   "source": []
  }
 ],
 "metadata": {
  "kernelspec": {
   "display_name": "Python 3",
   "language": "python",
   "name": "python3"
  },
  "language_info": {
   "codemirror_mode": {
    "name": "ipython",
    "version": 3
   },
   "file_extension": ".py",
   "mimetype": "text/x-python",
   "name": "python",
   "nbconvert_exporter": "python",
   "pygments_lexer": "ipython3",
   "version": "3.6.4"
  }
 },
 "nbformat": 4,
 "nbformat_minor": 2
}
